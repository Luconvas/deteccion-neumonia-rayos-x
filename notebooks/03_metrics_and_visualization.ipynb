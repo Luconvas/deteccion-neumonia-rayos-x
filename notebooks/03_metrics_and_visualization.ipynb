{
 "cells": [
  {
   "cell_type": "code",
   "execution_count": null,
   "metadata": {},
   "outputs": [],
   "source": [
    "# Código para la evaluación y visualización de métricas\n",
    "\n",
    "import numpy as np\n",
    "from keras.models import load_model\n",
    "from keras.preprocessing import image\n",
    "from sklearn.metrics import classification_report, confusion_matrix\n",
    "import matplotlib.pyplot as plt\n",
    "import seaborn as sns\n",
    "\n",
    "model_path = 'models/model_pneumonia_detection.h5'\n",
    "val_dir = 'data/val'\n",
    "\n",
    "# Cargar el modelo guardado\n",
    "model = load_model(model_path)\n",
    "\n",
    "# Configuración del generador de datos de validación\n",
    "datagen = ImageDataGenerator(rescale=1./255, validation_split=0.2)\n",
    "validation_generator = datagen.flow_from_directory(\n",
    "    val_dir,\n",
    "    target_size=(150, 150),\n",
    "    batch_size=32,\n",
    "    class_mode='binary',\n",
    "    subset='validation'\n",
    ")\n",
    "\n",
    "# Generar predicciones en el conjunto de validación\n",
    "validation_generator.reset()\n",
    "Y_pred = model.predict(validation_generator)\n",
    "y_pred = np.where(Y_pred > 0.5, 1, 0)\n",
    "\n",
    "# Reporte de clasificación\n",
    "target_names = ['Normal', 'Pneumonia']\n",
    "print('Classification Report')\n",
    "print(classification_report(validation_generator.classes, y_pred, target_names=target_names))\n",
    "\n",
    "# Matriz de confusión\n",
    "conf_matrix = confusion_matrix(validation_generator.classes, y_pred)\n",
    "plt.figure(figsize=(8, 6))\n",
    "sns.heatmap(conf_matrix, annot=True, fmt='d', cmap='Blues', xticklabels=target_names, yticklabels=target_names)\n",
    "plt.title('Confusion Matrix')\n",
    "plt.ylabel('Actual')\n",
    "plt.xlabel('Predicted')\n",
    "plt.show()\n"
   ]
  }
 ],
 "metadata": {
  "language_info": {
   "name": "python"
  }
 },
 "nbformat": 4,
 "nbformat_minor": 2
}
