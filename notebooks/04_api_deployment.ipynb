{
 "cells": [
  {
   "cell_type": "code",
   "execution_count": null,
   "metadata": {},
   "outputs": [],
   "source": [
    "# Código para el despliegue de la API usando Flask\n",
    "\n",
    "from flask import Flask, request, jsonify\n",
    "from keras.models import load_model\n",
    "from keras.preprocessing import image\n",
    "import numpy as np\n",
    "\n",
    "app = Flask(__name__)\n",
    "\n",
    "model_path = '../models/model_pneumonia_detection.h5'\n",
    "model = load_model(model_path)\n",
    "\n",
    "@app.route('/predict', methods=['POST'])\n",
    "def predict():\n",
    "    img = request.files['image']\n",
    "    img = image.load_img(img, target_size=(150, 150))\n",
    "    img_array = image.img_to_array(img)\n",
    "    img_array = np.expand_dims(img_array, axis=0) / 255.0\n",
    "    \n",
    "    prediction = model.predict(img_array)\n",
    "    prediction_class = 'Pneumonia' if prediction > 0.5 else 'Normal'\n",
    "    confidence = float(prediction[0][0])\n",
    "    \n",
    "    return jsonify({\n",
    "        'prediction': prediction_class,\n",
    "        'confidence': confidence\n",
    "    })\n",
    "\n",
    "if __name__ == '__main__':\n",
    "    app.run(debug=True)\n"
   ]
  }
 ],
 "metadata": {
  "language_info": {
   "name": "python"
  }
 },
 "nbformat": 4,
 "nbformat_minor": 2
}
